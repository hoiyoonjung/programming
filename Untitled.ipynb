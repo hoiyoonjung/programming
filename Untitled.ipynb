{
 "cells": [
  {
   "cell_type": "code",
   "execution_count": 1,
   "metadata": {},
   "outputs": [
    {
     "name": "stdout",
     "output_type": "stream",
     "text": [
      "1 번째 번호는 1 입니다\n",
      "2 번째 번호는 26 입니다\n",
      "3 번째 번호는 11 입니다\n",
      "4 번째 번호는 2 입니다\n",
      "5 번째 번호는 29 입니다\n",
      "6 번째 번호는 21 입니다\n"
     ]
    }
   ],
   "source": [
    "import random\n",
    "for i in range(1,7):\n",
    "    번호 = random.randint(1,45)\n",
    "    print(i,'번째 번호는', 번호, '입니다')"
   ]
  },
  {
   "cell_type": "code",
   "execution_count": 1,
   "metadata": {},
   "outputs": [
    {
     "name": "stdout",
     "output_type": "stream",
     "text": [
      "숫자를 입력해주세요134\n",
      "숫자를 입력해주세요1234\n",
      "134 과 1234 의 합은 1368 입니다\n"
     ]
    }
   ],
   "source": [
    "첫번째 = int(input('숫자를 입력해주세요'))\n",
    "두번째 = int(input('숫자를 입력해주세요'))\n",
    "print(첫번째, '과', 두번째, '의 합은', 첫번째 + 두번째, '입니다')"
   ]
  },
  {
   "cell_type": "code",
   "execution_count": null,
   "metadata": {},
   "outputs": [],
   "source": [
    "체중 = float(input('체중은요'))"
   ]
  }
 ],
 "metadata": {
  "kernelspec": {
   "display_name": "Python 3",
   "language": "python",
   "name": "python3"
  },
  "language_info": {
   "codemirror_mode": {
    "name": "ipython",
    "version": 3
   },
   "file_extension": ".py",
   "mimetype": "text/x-python",
   "name": "python",
   "nbconvert_exporter": "python",
   "pygments_lexer": "ipython3",
   "version": "3.7.1"
  }
 },
 "nbformat": 4,
 "nbformat_minor": 2
}
